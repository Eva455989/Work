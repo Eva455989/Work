{
  "nbformat": 4,
  "nbformat_minor": 0,
  "metadata": {
    "colab": {
      "provenance": [],
      "authorship_tag": "ABX9TyOhtcA44MrIMeQOhcmO3G6Z",
      "include_colab_link": true
    },
    "kernelspec": {
      "name": "python3",
      "display_name": "Python 3"
    },
    "language_info": {
      "name": "python"
    }
  },
  "cells": [
    {
      "cell_type": "markdown",
      "metadata": {
        "id": "view-in-github",
        "colab_type": "text"
      },
      "source": [
        "<a href=\"https://colab.research.google.com/github/Eva455989/Work/blob/master/%D0%92%D0%B0%D1%80%D0%BD%D0%B0%D0%B2%D0%B8%D0%BD%D0%B0_%D0%95%D0%95%2C_%D0%9F%D1%80%D0%BE%D0%BB%D0%BE%D0%BD%D0%B3%D0%B0%D1%86%D0%B8%D1%8F.ipynb\" target=\"_parent\"><img src=\"https://colab.research.google.com/assets/colab-badge.svg\" alt=\"Open In Colab\"/></a>"
      ]
    },
    {
      "cell_type": "markdown",
      "source": [
        "**Блок 1: Импорт библиотек и функции**"
      ],
      "metadata": {
        "id": "K3-FNatyzK0X"
      }
    },
    {
      "cell_type": "code",
      "source": [
        "import pandas as pd\n",
        "import numpy as np\n",
        "from datetime import datetime\n",
        "import warnings\n",
        "warnings.filterwarnings('ignore')\n",
        "\n",
        "# Функция для очистки числовых значений\n",
        "def clean_numeric_value(value):\n",
        "    if pd.isna(value) or value == '' or value == 'стоп' or value == 'в ноль':\n",
        "        return 0\n",
        "    if isinstance(value, str):\n",
        "        # Удаляем пробелы, заменяем запятые на точки\n",
        "        value = value.replace(' ', '').replace(',', '.')\n",
        "        # Удаляем нечисловые символы кроме точек и минусов\n",
        "        value = ''.join(char for char in value if char.isdigit() or char in '.-')\n",
        "        if value == '' or value == '-':\n",
        "            return 0\n",
        "    try:\n",
        "        return float(value)\n",
        "    except:\n",
        "        return 0\n",
        "\n",
        "# Функция для нормализации названий месяцев\n",
        "def normalize_month(month_str):\n",
        "    if pd.isna(month_str):\n",
        "        return None\n",
        "    month_str = str(month_str).lower()\n",
        "    for ru, en in month_translation.items():\n",
        "        if ru in month_str:\n",
        "            return en + month_str[len(ru):]\n",
        "    return month_str"
      ],
      "metadata": {
        "id": "BzoDTGXxxvMo"
      },
      "execution_count": 14,
      "outputs": []
    },
    {
      "cell_type": "markdown",
      "source": [
        "**Блок 2: Загрузка данных**"
      ],
      "metadata": {
        "id": "oWGe1J2EzN16"
      }
    },
    {
      "cell_type": "code",
      "source": [
        "# Загрузка реальных данных\n",
        "print(\"Загрузка данных...\")\n",
        "financial_data = pd.read_csv('financial_data.csv')\n",
        "prolongations = pd.read_csv('prolongations.csv')\n",
        "\n",
        "print(f\"Финансовые данные: {financial_data.shape}\")\n",
        "print(f\"Данные по пролонгациям: {prolongations.shape}\")"
      ],
      "metadata": {
        "colab": {
          "base_uri": "https://localhost:8080/"
        },
        "id": "j6_VfM6yxTsC",
        "outputId": "e81755f7-6f35-4542-e71a-68471c8a87c9"
      },
      "execution_count": 15,
      "outputs": [
        {
          "output_type": "stream",
          "name": "stdout",
          "text": [
            "Загрузка данных...\n",
            "Финансовые данные: (451, 19)\n",
            "Данные по пролонгациям: (477, 3)\n"
          ]
        }
      ]
    },
    {
      "cell_type": "markdown",
      "source": [
        "**Блок 3: Предобработка данных**"
      ],
      "metadata": {
        "id": "IPFTw1lfzSRR"
      }
    },
    {
      "cell_type": "code",
      "source": [
        "# Предобработка данных\n",
        "print(\"\\nПредобработка данных...\")\n",
        "\n",
        "# Получаем список финансовых колонок (исключаем служебные)\n",
        "financial_columns = [col for col in financial_data.columns\n",
        "                    if col not in ['id', 'Причина дубля', 'Account']]\n",
        "\n",
        "print(f\"Финансовые колонки: {financial_columns}\")\n",
        "\n",
        "# Очищаем финансовые данные\n",
        "for col in financial_columns:\n",
        "    financial_data[col] = financial_data[col].apply(clean_numeric_value)\n",
        "\n",
        "# Агрегируем финансовые данные по id (суммируем дубли)\n",
        "financial_aggregated = financial_data.groupby(['id', 'Account'])[financial_columns].sum().reset_index()\n",
        "\n",
        "print(f\"После агрегации: {financial_aggregated.shape}\")\n",
        "\n",
        "# Создаем словарь для перевода месяцев\n",
        "month_translation = {\n",
        "    'январь': 'Январь', 'февраль': 'Февраль', 'март': 'Март', 'апрель': 'Апрель',\n",
        "    'май': 'Май', 'июнь': 'Июнь', 'июль': 'Июль', 'август': 'Август',\n",
        "    'сентябрь': 'Сентябрь', 'октябрь': 'Октябрь', 'ноябрь': 'Ноябрь', 'декабрь': 'Декабрь'\n",
        "}\n",
        "\n",
        "# Нормализуем месяцы в prolongations\n",
        "prolongations['month_normalized'] = prolongations['month'].apply(normalize_month)\n",
        "\n",
        "# Создаем список месяцев для анализа (2023 год)\n",
        "months_2023 = [f\"{month} 2023\" for month in [\n",
        "    'Январь', 'Февраль', 'Март', 'Апрель', 'Май', 'Июнь',\n",
        "    'Июль', 'Август', 'Сентябрь', 'Октябрь', 'Ноябрь', 'Декабрь'\n",
        "]]\n",
        "\n",
        "print(f\"Месяцы для анализа: {months_2023}\")"
      ],
      "metadata": {
        "colab": {
          "base_uri": "https://localhost:8080/"
        },
        "id": "WCiN1rbVxZDG",
        "outputId": "6b20cf28-6ff6-4670-b458-3b7717334f58"
      },
      "execution_count": 16,
      "outputs": [
        {
          "output_type": "stream",
          "name": "stdout",
          "text": [
            "\n",
            "Предобработка данных...\n",
            "Финансовые колонки: ['Ноябрь 2022', 'Декабрь 2022', 'Январь 2023', 'Февраль 2023', 'Март 2023', 'Апрель 2023', 'Май 2023', 'Июнь 2023', 'Июль 2023', 'Август 2023', 'Сентябрь 2023', 'Октябрь 2023', 'Ноябрь 2023', 'Декабрь 2023', 'Январь 2024', 'Февраль 2024']\n",
            "После агрегации: (314, 18)\n",
            "Месяцы для анализа: ['Январь 2023', 'Февраль 2023', 'Март 2023', 'Апрель 2023', 'Май 2023', 'Июнь 2023', 'Июль 2023', 'Август 2023', 'Сентябрь 2023', 'Октябрь 2023', 'Ноябрь 2023', 'Декабрь 2023']\n"
          ]
        }
      ]
    },
    {
      "cell_type": "markdown",
      "source": [
        "**Блок 4: Функция расчета коэффициентов**"
      ],
      "metadata": {
        "id": "XB2RGZ6GzU3P"
      }
    },
    {
      "cell_type": "code",
      "source": [
        "# Основная функция расчета коэффициентов\n",
        "def calculate_prolongation_coefficients(prolongations_df, financial_df, months):\n",
        "    \"\"\"\n",
        "    Расчет коэффициентов пролонгации для каждого менеджера и месяца\n",
        "\n",
        "    КОЭФФИЦИЕНТ 1 МЕСЯЦА\n",
        "    Формула: Коэф1 = Σ(Отгрузка в месяце M проектов, завершившихся в M-1) /\n",
        "                   Σ(Отгрузка в последнем месяце проектов, завершившихся в M-1)\n",
        "\n",
        "    Пример для мая 2023:\n",
        "    - Проекты завершились в: Апрель 2023\n",
        "    - Отгрузка в последнем месяце: Апрель 2023 (знаменатель)\n",
        "    - Отгрузка в текущем месяце: Май 2023 (числитель)\n",
        "\n",
        "    КОЭФФИЦИЕНТ 2 МЕСЯЦА\n",
        "    Формула: Коэф2 = Σ(Отгрузка в месяце M проектов из M-2 БЕЗ отгрузки в M-1) /\n",
        "                   Σ(Отгрузка в последнем месяце проектов из M-2 БЕЗ отгрузки в M-1)\n",
        "\n",
        "    Пример для мая 2023:\n",
        "    - Проекты завершились в: Март 2023\n",
        "    - У которых НЕТ отгрузки в: Апрель 2023\n",
        "    - Отгрузка в последнем месяце: Март 2023 (знаменатель)\n",
        "    - Отгрузка в текущем месяце: Май 2023 (числитель)\n",
        "\n",
        "    ОСОБЫЕ СЛУЧАИ:\n",
        "    - Если знаменатель = 0, коэффициент = 0\n",
        "    - Проекты учитываются только если они официально завершены (есть в prolongations)\n",
        "    - Учитываются только проекты конкретного менеджера\n",
        "    \"\"\"\n",
        "    results = []\n",
        "\n",
        "    for i, current_month in enumerate(months):\n",
        "        if i < 1:  # Для первого месяца нет данных о предыдущих завершениях\n",
        "            continue\n",
        "\n",
        "        prev_month = months[i-1]  # Месяц завершения проектов для коэффициента 1\n",
        "        prev_prev_month = months[i-2] if i >= 2 else None  # Месяц завершения для коэффициента 2\n",
        "\n",
        "        print(f\"Обрабатываем {current_month}: предыдущий {prev_month}, предпредыдущий {prev_prev_month}\")\n",
        "\n",
        "        # Получаем всех менеджеров\n",
        "        managers = prolongations_df['AM'].unique()\n",
        "\n",
        "        for manager in managers:\n",
        "            # КОЭФФИЦИЕНТ 1: Пролонгация в первый месяц\n",
        "            projects_ended_prev_month = prolongations_df[\n",
        "                (prolongations_df['month_normalized'] == prev_month) &\n",
        "                (prolongations_df['AM'] == manager)\n",
        "            ]['id'].unique()\n",
        "\n",
        "            coef1 = 0\n",
        "            if len(projects_ended_prev_month) > 0:\n",
        "                last_month_shipment = 0\n",
        "                current_month_shipment = 0\n",
        "\n",
        "                for project_id in projects_ended_prev_month:\n",
        "                    project_data = financial_df[financial_df['id'] == project_id]\n",
        "                    if len(project_data) > 0:\n",
        "                        # Сумма в последнем месяце реализации\n",
        "                        if prev_month in financial_df.columns:\n",
        "                            last_month_shipment += project_data[prev_month].iloc[0]\n",
        "\n",
        "                        # Сумма в текущем месяце (пролонгация)\n",
        "                        if current_month in financial_df.columns:\n",
        "                            current_month_shipment += project_data[current_month].iloc[0]\n",
        "\n",
        "                # Расчет коэффициента 1\n",
        "                if last_month_shipment > 0:\n",
        "                    coef1 = current_month_shipment / last_month_shipment\n",
        "\n",
        "            # КОЭФФИЦИЕНТ 2: Пролонгация во второй месяц\n",
        "            coef2 = 0\n",
        "            if prev_prev_month:\n",
        "                projects_ended_prev_prev_month = prolongations_df[\n",
        "                    (prolongations_df['month_normalized'] == prev_prev_month) &\n",
        "                    (prolongations_df['AM'] == manager)\n",
        "                ]['id'].unique()\n",
        "\n",
        "                if len(projects_ended_prev_prev_month) > 0:\n",
        "                    total_last_month_shipment = 0\n",
        "                    current_month_shipment_coef2 = 0\n",
        "\n",
        "                    for project_id in projects_ended_prev_prev_month:\n",
        "                        project_data = financial_df[financial_df['id'] == project_id]\n",
        "                        if len(project_data) > 0:\n",
        "                            # Проверяем, была ли отгрузка в предыдущем месяце\n",
        "                            shipment_prev_month = project_data[prev_month].iloc[0] if prev_month in financial_df.columns else 0\n",
        "\n",
        "                            if shipment_prev_month == 0:  # Не было пролонгации в первый месяц\n",
        "                                # Сумма в последнем месяце реализации\n",
        "                                if prev_prev_month in financial_df.columns:\n",
        "                                    total_last_month_shipment += project_data[prev_prev_month].iloc[0]\n",
        "\n",
        "                                # Сумма в текущем месяце (пролонгация во второй месяц)\n",
        "                                if current_month in financial_df.columns:\n",
        "                                    current_month_shipment_coef2 += project_data[current_month].iloc[0]\n",
        "\n",
        "                    # Расчет коэффициента 2\n",
        "                    if total_last_month_shipment > 0:\n",
        "                        coef2 = current_month_shipment_coef2 / total_last_month_shipment\n",
        "\n",
        "            results.append({\n",
        "                'Месяц': current_month,\n",
        "                'Менеджер': manager,\n",
        "                'Коэффициент пролонгации 1 месяц': round(coef1, 4),\n",
        "                'Коэффициент пролонгации 2 месяц': round(coef2, 4),\n",
        "                'Количество проектов завершившихся в предыдущем месяце': len(projects_ended_prev_month)\n",
        "            })\n",
        "\n",
        "    return pd.DataFrame(results)"
      ],
      "metadata": {
        "id": "ZYmFdwipxg9T"
      },
      "execution_count": 17,
      "outputs": []
    },
    {
      "cell_type": "markdown",
      "source": [
        "**Блок 5: Выполнение расчета**"
      ],
      "metadata": {
        "id": "Z7joifQJzYgA"
      }
    },
    {
      "cell_type": "code",
      "execution_count": 18,
      "metadata": {
        "colab": {
          "base_uri": "https://localhost:8080/"
        },
        "id": "IfDnpb1msKKH",
        "outputId": "811799c3-bc5e-4b9d-c2da-25d5c8cc42e6"
      },
      "outputs": [
        {
          "output_type": "stream",
          "name": "stdout",
          "text": [
            "\n",
            "Начинаем расчет коэффициентов пролонгации...\n",
            "Обрабатываем Февраль 2023: предыдущий Январь 2023, предпредыдущий None\n",
            "Обрабатываем Март 2023: предыдущий Февраль 2023, предпредыдущий Январь 2023\n",
            "Обрабатываем Апрель 2023: предыдущий Март 2023, предпредыдущий Февраль 2023\n",
            "Обрабатываем Май 2023: предыдущий Апрель 2023, предпредыдущий Март 2023\n",
            "Обрабатываем Июнь 2023: предыдущий Май 2023, предпредыдущий Апрель 2023\n",
            "Обрабатываем Июль 2023: предыдущий Июнь 2023, предпредыдущий Май 2023\n",
            "Обрабатываем Август 2023: предыдущий Июль 2023, предпредыдущий Июнь 2023\n",
            "Обрабатываем Сентябрь 2023: предыдущий Август 2023, предпредыдущий Июль 2023\n",
            "Обрабатываем Октябрь 2023: предыдущий Сентябрь 2023, предпредыдущий Август 2023\n",
            "Обрабатываем Ноябрь 2023: предыдущий Октябрь 2023, предпредыдущий Сентябрь 2023\n",
            "Обрабатываем Декабрь 2023: предыдущий Ноябрь 2023, предпредыдущий Октябрь 2023\n",
            "\n",
            "Расчет завершен!\n",
            "Всего записей: 132\n",
            "Уникальных менеджеров: 11\n",
            "Основные результаты сохранены в 'prolongation_coefficients.csv'\n"
          ]
        }
      ],
      "source": [
        "# Выполняем расчет\n",
        "print(\"\\nНачинаем расчет коэффициентов пролонгации...\")\n",
        "results_df = calculate_prolongation_coefficients(prolongations, financial_aggregated, months_2023)\n",
        "\n",
        "# Добавляем общие коэффициенты по отделу\n",
        "department_monthly = results_df.groupby('Месяц').agg({\n",
        "    'Коэффициент пролонгации 1 месяц': 'mean',\n",
        "    'Коэффициент пролонгации 2 месяц': 'mean',\n",
        "    'Количество проектов завершившихся в предыдущем месяце': 'sum'\n",
        "}).reset_index()\n",
        "department_monthly['Менеджер'] = 'Все отдел'\n",
        "\n",
        "# Объединяем результаты\n",
        "final_results = pd.concat([results_df, department_monthly], ignore_index=True)\n",
        "\n",
        "# Расчет годовых коэффициентов\n",
        "yearly_coefficients = final_results[final_results['Менеджер'] != 'Все отдел'].groupby('Менеджер').agg({\n",
        "    'Коэффициент пролонгации 1 месяц': 'mean',\n",
        "    'Коэффициент пролонгации 2 месяц': 'mean'\n",
        "}).reset_index()\n",
        "yearly_coefficients['Месяц'] = '2023 год'\n",
        "\n",
        "# Общие годовые коэффициенты по отделу\n",
        "department_yearly = pd.DataFrame({\n",
        "    'Менеджер': ['Все отдел'],\n",
        "    'Коэффициент пролонгации 1 месяц': [yearly_coefficients['Коэффициент пролонгации 1 месяц'].mean()],\n",
        "    'Коэффициент пролонгации 2 месяц': [yearly_coefficients['Коэффициент пролонгации 2 месяц'].mean()],\n",
        "    'Месяц': ['2023 год'],\n",
        "    'Количество проектов завершившихся в предыдущем месяце': [0]\n",
        "})\n",
        "\n",
        "# Финальный датафрейм со всеми результатами\n",
        "final_with_yearly = pd.concat([final_results, yearly_coefficients, department_yearly], ignore_index=True)\n",
        "\n",
        "print(f\"Всего записей: {len(final_with_yearly)}\")\n",
        "print(f\"Уникальных менеджеров: {final_with_yearly['Менеджер'].nunique()}\")\n",
        "\n",
        "# Сохраняем основные результаты\n",
        "final_with_yearly.to_csv('prolongation_coefficients.csv', index=False, encoding='utf-8-sig')\n",
        "print(\"Основные результаты сохранены в 'prolongation_coefficients.csv'\")"
      ]
    },
    {
      "cell_type": "markdown",
      "source": [
        "**Блок 6: Создание отчета и вывод статистики**"
      ],
      "metadata": {
        "id": "cclzOxX6zdOc"
      }
    },
    {
      "cell_type": "code",
      "source": [
        "# Создаем расширенный аналитический отчет\n",
        "print(\"\\nСоздание аналитического отчета...\")\n",
        "\n",
        "with pd.ExcelWriter('prolongation_analysis_report.xlsx', engine='openpyxl') as writer:\n",
        "\n",
        "    # Лист 1: Сводные коэффициенты по месяцам\n",
        "    summary_1m = final_results.pivot_table(\n",
        "        index='Менеджер',\n",
        "        columns='Месяц',\n",
        "        values='Коэффициент пролонгации 1 месяц',\n",
        "        aggfunc='mean'\n",
        "    ).round(4)\n",
        "\n",
        "    summary_2m = final_results.pivot_table(\n",
        "        index='Менеджер',\n",
        "        columns='Месяц',\n",
        "        values='Коэффициент пролонгации 2 месяц',\n",
        "        aggfunc='mean'\n",
        "    ).round(4)\n",
        "\n",
        "    # Объединяем оба коэффициента в один датафрейм\n",
        "    summary_combined = pd.concat([summary_1m, summary_2m], keys=['Коэф. 1 месяц', 'Коэф. 2 месяц'], axis=1)\n",
        "    summary_combined.to_excel(writer, sheet_name='Сводные коэффициенты')\n",
        "\n",
        "    # Лист 2: Годовые результаты\n",
        "    yearly_data = final_with_yearly[final_with_yearly['Месяц'] == '2023 год']\n",
        "    yearly_data = yearly_data[['Менеджер', 'Коэффициент пролонгации 1 месяц', 'Коэффициент пролонгации 2 месяц']]\n",
        "    yearly_data.to_excel(writer, sheet_name='Годовые результаты', index=False)\n",
        "\n",
        "    # Лист 3: Детализация по месяцам\n",
        "    monthly_detail = final_with_yearly[final_with_yearly['Месяц'] != '2023 год']\n",
        "    monthly_detail = monthly_detail.sort_values(['Месяц', 'Менеджер'])\n",
        "    monthly_detail.to_excel(writer, sheet_name='Детализация по месяцам', index=False)\n",
        "\n",
        "    # Лист 4: Рейтинг менеджеров\n",
        "    manager_stats = prolongations.groupby('AM').agg({\n",
        "        'id': 'count',\n",
        "        'month_normalized': 'nunique'\n",
        "    }).reset_index()\n",
        "    manager_stats.columns = ['Менеджер', 'Всего проектов', 'Месяцев с завершениями']\n",
        "\n",
        "    # Добавляем годовые коэффициенты\n",
        "    ranking_data = pd.merge(manager_stats, yearly_data[yearly_data['Менеджер'] != 'Все отдел'], on='Менеджер')\n",
        "    ranking_data['Общий рейтинг'] = (\n",
        "        ranking_data['Коэффициент пролонгации 1 месяц'] * 0.7 +\n",
        "        ranking_data['Коэффициент пролонгации 2 месяц'] * 0.3\n",
        "    )\n",
        "    ranking_data = ranking_data.sort_values('Общий рейтинг', ascending=False)\n",
        "    ranking_data['Место'] = range(1, len(ranking_data) + 1)\n",
        "\n",
        "    ranking_data.to_excel(writer, sheet_name='Рейтинг менеджеров', index=False)\n",
        "\n",
        "    # Лист 5: Статистика проектов\n",
        "    project_stats = prolongations['month_normalized'].value_counts().reset_index()\n",
        "    project_stats.columns = ['Месяц завершения', 'Количество проектов']\n",
        "    project_stats = project_stats.sort_values('Месяц завершения')\n",
        "    project_stats.to_excel(writer, sheet_name='Статистика проектов', index=False)\n",
        "\n",
        "print(\"Аналитический отчет создан: 'prolongation_analysis_report.xlsx'\")\n",
        "\n",
        "# Выводим краткую статистику\n",
        "print(\"КРАТКАЯ СТАТИСТИКА\")\n",
        "print(f\"Всего менеджеров: {len(prolongations['AM'].unique())}\")\n",
        "print(f\"Всего проектов: {len(prolongations['id'].unique())}\")\n",
        "print(f\"Период анализа: {months_2023[0]} - {months_2023[-1]}\")\n",
        "\n",
        "# Годовые результаты по отделу\n",
        "dept_year = final_with_yearly[\n",
        "    (final_with_yearly['Менеджер'] == 'Все отдел') &\n",
        "    (final_with_yearly['Месяц'] == '2023 год')\n",
        "]\n",
        "if len(dept_year) > 0:\n",
        "    print(f\"\\nРезультаты отдела за 2023 год:\")\n",
        "    print(f\"Коэффициент пролонгации 1 месяц: {dept_year['Коэффициент пролонгации 1 месяц'].iloc[0]:.2%}\")\n",
        "    print(f\"Коэффициент пролонгации 2 месяц: {dept_year['Коэффициент пролонгации 2 месяц'].iloc[0]:.2%}\")\n",
        "\n",
        "# Лучший менеджер\n",
        "if 'ranking_data' in locals() and len(ranking_data) > 0:\n",
        "    best_manager = ranking_data.iloc[0]\n",
        "    print(f\"\\nЛучший менеджер: {best_manager['Менеджер']}\")\n",
        "    print(f\"Общий рейтинг: {best_manager['Общий рейтинг']:.4f}\")\n",
        "    print(f\"Коэффициент 1 месяц: {best_manager['Коэффициент пролонгации 1 месяц']:.2%}\")\n",
        "    print(f\"Коэффициент 2 месяц: {best_manager['Коэффициент пролонгации 2 месяц']:.2%}\")"
      ],
      "metadata": {
        "colab": {
          "base_uri": "https://localhost:8080/"
        },
        "id": "2My2CfkizeV4",
        "outputId": "c4d445d6-5142-4399-fa7c-0285dc816383"
      },
      "execution_count": 19,
      "outputs": [
        {
          "output_type": "stream",
          "name": "stdout",
          "text": [
            "\n",
            "Создание аналитического отчета...\n",
            "Аналитический отчет создан: 'prolongation_analysis_report.xlsx'\n",
            "\n",
            "=== КРАТКАЯ СТАТИСТИКА ===\n",
            "Всего менеджеров: 10\n",
            "Всего проектов: 313\n",
            "Период анализа: Январь 2023 - Декабрь 2023\n",
            "\n",
            "Результаты отдела за 2023 год:\n",
            "Коэффициент пролонгации 1 месяц: 33.25%\n",
            "Коэффициент пролонгации 2 месяц: 5.96%\n",
            "\n",
            "Лучший менеджер: Михайлов Андрей Сергеевич\n",
            "Общий рейтинг: 0.4626\n",
            "Коэффициент 1 месяц: 66.08%\n",
            "Коэффициент 2 месяц: 0.00%\n"
          ]
        }
      ]
    }
  ]
}